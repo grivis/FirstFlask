{
 "cells": [
  {
   "cell_type": "markdown",
   "metadata": {},
   "source": [
    "<h1 style=\"color:red;\"> Модуль Flask и все, что его окружает...</h1>"
   ]
  },
  {
   "cell_type": "markdown",
   "metadata": {},
   "source": [
    "<code>Flask</code> (фляжка) - это фреймворк (набор инструментов) для создания веб-сайтов. По свои возможностям стоит выше, чем <code>Bottle</code>, но ниже, чем <code>Django<code>. <code>Flask</code> в использовании почти так же прост, как и <code>Bottle</code>, но поддерживает множество расширений, которые могут оказаться полезными в профессиональной веб-разработке. Прежде, чем разбираться в работе <code>Flask</code>, разберем некоторые инструменты <code>Python</code>, которые нам могут пригодиться. А поскольку речь идет о веб-разработке, нелишним будет вспомнить и некоторые азы HTML "
   ]
  },
  {
   "cell_type": "markdown",
   "metadata": {},
   "source": [
    "<html>\n",
    "<head>\n",
    "<title>Пример на Flask</title>\n",
    "</head>\n",
    "<body>\n",
    "<h3 style=\"color:blue;\">Позиционные аргументы функций</h3>\n",
    "</body>\n",
    "</html>"
   ]
  },
  {
   "cell_type": "markdown",
   "metadata": {},
   "source": [
    "<html><body><p>Это наиболее распространенные тип аргуметов <strong>функций</strong>. Для <i>позиционных аргументов</i> значения копируются в соответствующие параметры функций согласно <mark>порядку следования</mark>.</p>\n",
    "<p>Приведенная ниже функция создает словарь из позиционных входных аргументов и возвращает его:</p></body></html>"
   ]
  },
  {
   "cell_type": "code",
   "execution_count": 4,
   "metadata": {
    "collapsed": true
   },
   "outputs": [],
   "source": [
    "def menu(wine, entree, dessert):\n",
    "    return {'Вино':wine, 'Основное блюдо':entree, 'Десерт':dessert}"
   ]
  },
  {
   "cell_type": "code",
   "execution_count": 5,
   "metadata": {
    "collapsed": false
   },
   "outputs": [
    {
     "data": {
      "text/plain": [
       "{'Вино': 'Киндзмараули', 'Десерт': 'Чурчхела', 'Основное блюдо': 'Шашлык'}"
      ]
     },
     "execution_count": 5,
     "metadata": {},
     "output_type": "execute_result"
    }
   ],
   "source": [
    "menu('Киндзмараули', 'Шашлык', 'Чурчхела')"
   ]
  },
  {
   "cell_type": "markdown",
   "metadata": {},
   "source": [
    "Основной недостаток позиционных аргументов - <mark>нужно запоминать порядок их следования</mark>, значение каждой позиции. Если перепутать порядок следования, можно получить забавный результат:"
   ]
  },
  {
   "cell_type": "code",
   "execution_count": 7,
   "metadata": {
    "collapsed": false
   },
   "outputs": [
    {
     "data": {
      "text/plain": [
       "{'Вино': 'Шашлык', 'Десерт': 'Киндзмараули', 'Основное блюдо': 'Чурчхела'}"
      ]
     },
     "execution_count": 7,
     "metadata": {},
     "output_type": "execute_result"
    }
   ],
   "source": [
    "menu('Шашлык', 'Чурчхела', 'Киндзмараули')"
   ]
  },
  {
   "cell_type": "markdown",
   "metadata": {},
   "source": [
    "<h3 style=\"color:blue;\">Аргументы - ключевые слова</h3>"
   ]
  },
  {
   "cell_type": "markdown",
   "metadata": {},
   "source": [
    "Для того, чтобы избежать путаницы с позиционными аргументами, можно указать значения аргументов с помощью имен соответствующих параметров. В этом случае порядок следования может быть совершенно произвольным:"
   ]
  },
  {
   "cell_type": "code",
   "execution_count": 9,
   "metadata": {
    "collapsed": false
   },
   "outputs": [
    {
     "data": {
      "text/plain": [
       "{'Вино': 'Киндзмараули', 'Десерт': 'Чурчхела', 'Основное блюдо': 'Шашлык'}"
      ]
     },
     "execution_count": 9,
     "metadata": {},
     "output_type": "execute_result"
    }
   ],
   "source": [
    "menu(entree='Шашлык', dessert='Чурчхела', wine='Киндзмараули')"
   ]
  },
  {
   "cell_type": "markdown",
   "metadata": {},
   "source": [
    "<h3 style=\"color:blue;\">Параметры по умолчанию</h3>"
   ]
  },
  {
   "cell_type": "markdown",
   "metadata": {},
   "source": [
    "При определении функции можно указывать значения <mark>параметров по умолчанию</mark>. Значения по умолчанию используются в том случае, если <i>вызывающая функцию строка кода не представила соответствующий аргумент</i>. Такой прием может быть полезным для параметров, которые чаще всего используются с фиксированным значением. Вот пример:"
   ]
  },
  {
   "cell_type": "code",
   "execution_count": 10,
   "metadata": {
    "collapsed": true
   },
   "outputs": [],
   "source": [
    "def menu(wine, entree, dessert='Торт Наполеон'):\n",
    "    return {'Вино':wine, 'Основное блюдо':entree, 'Десерт':dessert}"
   ]
  },
  {
   "cell_type": "markdown",
   "metadata": {},
   "source": [
    "Теперь мы  можем пропустить параметр <code>dessert</code> при вызове функций, задав лишь два аргумента:"
   ]
  },
  {
   "cell_type": "code",
   "execution_count": 13,
   "metadata": {
    "collapsed": false
   },
   "outputs": [
    {
     "data": {
      "text/plain": [
       "{'Вино': 'Ркацители', 'Десерт': 'Торт Наполеон', 'Основное блюдо': 'Хинкали'}"
      ]
     },
     "execution_count": 13,
     "metadata": {},
     "output_type": "execute_result"
    }
   ],
   "source": [
    "menu('Ркацители', 'Хинкали')"
   ]
  },
  {
   "cell_type": "markdown",
   "metadata": {},
   "source": [
    "<h3 style=\"color:green;\">Декораторы</h3>"
   ]
  },
  {
   "cell_type": "markdown",
   "metadata": {},
   "source": [
    "Иногда бывает необходимо <mark>изменить действие существующей функции</mark>, не меняя при этом ее код. Например, нужно добавать выражение для отладки. Например, чтобы посмотреть, какие именно аргументы были переданы в функцию."
   ]
  },
  {
   "cell_type": "markdown",
   "metadata": {},
   "source": [
    "<i>Декоратор</i> - это функция, которая принимает одну функцию в качестве аргумента и возвращает другую функцию. Приведенная ниже декораторная функция <code>document_it</code>, выполнит следующие действия:"
   ]
  },
  {
   "cell_type": "markdown",
   "metadata": {},
   "source": [
    " <ul>\n",
    "  <li>Выведет имя функции и значения переданный в нее аргументов;</li>\n",
    "  <li>Запустит функцию с полученными аргументами;</li>\n",
    "  <li>Выведет результат;</li>\n",
    "  <li>Вернет модифицированную функцию, готовую для использования;</li>\n",
    "</ul> "
   ]
  },
  {
   "cell_type": "markdown",
   "metadata": {},
   "source": [
    "Необходимый код <i>декораторной функции</i> будет выглядееть так:"
   ]
  },
  {
   "cell_type": "code",
   "execution_count": 16,
   "metadata": {
    "collapsed": true
   },
   "outputs": [],
   "source": [
    "def document_it(func):\n",
    "    def new_function(*args, **kwargs):\n",
    "        print('Исполняемая функция:', func.__name__)\n",
    "        print('Позиционные аргументы:', args)\n",
    "        print('Аргументы - ключевые слова:', kwargs)\n",
    "        result = func(*args, **kwargs)\n",
    "        print('Результат', result)\n",
    "        return result\n",
    "    return new_function"
   ]
  },
  {
   "cell_type": "markdown",
   "metadata": {},
   "source": [
    "Независимо от того, какую функцию <code>func</code> мы передадим функции <code>document_it</code>, мы получим новую функцию, которая содержит дополнительные выражения, добавленные <code>document_it</code>. Декоратор не обязательно должен запускать функцию <code>func</code>, но <code>document_it</code> вызовет часть <code>func</code>, поэтому мы получим результат работы <code>func</code>, а также дополнительные данные. "
   ]
  },
  {
   "cell_type": "markdown",
   "metadata": {},
   "source": [
    "Определим теперь некую простую функцию и запустим ее, для начала, <em>как есть</em>, безо всякого декоратора:"
   ]
  },
  {
   "cell_type": "code",
   "execution_count": 18,
   "metadata": {
    "collapsed": false
   },
   "outputs": [
    {
     "data": {
      "text/plain": [
       "8"
      ]
     },
     "execution_count": 18,
     "metadata": {},
     "output_type": "execute_result"
    }
   ],
   "source": [
    "def addints(a, b):\n",
    "    return a+b\n",
    "addints(3, 5)"
   ]
  },
  {
   "cell_type": "markdown",
   "metadata": {},
   "source": [
    "Теперь присвоим ссылку на декоратор <em>вручную</em> некоей новой переменной и запустим функцию под новым именем:"
   ]
  },
  {
   "cell_type": "code",
   "execution_count": 19,
   "metadata": {
    "collapsed": false
   },
   "outputs": [
    {
     "name": "stdout",
     "output_type": "stream",
     "text": [
      "Исполняемая функция: addints\n",
      "Позиционные аргументы: (3, 5)\n",
      "Аргументы - ключевые слова: {}\n",
      "Результат 8\n"
     ]
    },
    {
     "data": {
      "text/plain": [
       "8"
      ]
     },
     "execution_count": 19,
     "metadata": {},
     "output_type": "execute_result"
    }
   ],
   "source": [
    "new_addints = document_it(addints)\n",
    "new_addints(3, 5)"
   ]
  },
  {
   "cell_type": "code",
   "execution_count": null,
   "metadata": {
    "collapsed": true
   },
   "outputs": [],
   "source": []
  }
 ],
 "metadata": {
  "kernelspec": {
   "display_name": "Python 3",
   "language": "python",
   "name": "python3"
  },
  "language_info": {
   "codemirror_mode": {
    "name": "ipython",
    "version": 3
   },
   "file_extension": ".py",
   "mimetype": "text/x-python",
   "name": "python",
   "nbconvert_exporter": "python",
   "pygments_lexer": "ipython3",
   "version": "3.4.3+"
  }
 },
 "nbformat": 4,
 "nbformat_minor": 1
}
